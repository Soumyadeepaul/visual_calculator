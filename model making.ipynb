{
 "cells": [
  {
   "cell_type": "markdown",
   "metadata": {},
   "source": [
    "# Colab"
   ]
  },
  {
   "cell_type": "code",
   "execution_count": null,
   "metadata": {
    "id": "bSUcrThg_KNA"
   },
   "outputs": [],
   "source": [
    "#!unzip /content/Signdataset.zip -d /content/Signdataset\n"
   ]
  },
  {
   "cell_type": "code",
   "execution_count": null,
   "metadata": {
    "id": "CTVz_4NuIRPL"
   },
   "outputs": [],
   "source": [
    "#IMPORT lib(s)\n",
    "import matplotlib.pyplot as plt\n",
    "import random\n",
    "import os\n",
    "import matplotlib.image as mpimg\n",
    "import cv2\n",
    "import numpy as np\n",
    "import math\n",
    "from keras.optimizers import Adam"
   ]
  },
  {
   "cell_type": "code",
   "execution_count": null,
   "metadata": {
    "id": "qoLhm8ARgbZU"
   },
   "outputs": [],
   "source": [
    "#IMPORTANT\n",
    "#function take img array, height , width\n",
    "#to convert image of aspect ratio of 1:1.... height=80 and weight=80\n",
    "def resize_img(img,imgh,imgw):\n",
    "    imgsize=80\n",
    "    #WHITE BACKGROUND\n",
    "    imgwhite=np.ones((imgsize,imgsize,3),np.uint8)*255\n",
    "\n",
    "    #if hight>width\n",
    "    #adjusting the width\n",
    "    if imgh>imgw:\n",
    "        k=imgsize/imgh\n",
    "        wcal=math.floor(k*imgw)\n",
    "        #reshaping the hight to imgsize and width to calculated width\n",
    "        imgresize=cv2.resize(img,(wcal,imgsize))\n",
    "        #wgap is to bring the image in middle\n",
    "        wgap=math.floor((imgsize-wcal)/2)\n",
    "        #putting image over white background\n",
    "        imgwhite[:,wgap:wcal+wgap]=imgresize\n",
    "\n",
    "\n",
    "    #if hight<width\n",
    "    #adjysting the hight\n",
    "    else:\n",
    "        k=imgsize/imgw\n",
    "        hcal=math.floor(k*imgh)\n",
    "        imgresize=cv2.resize(img,(imgsize,hcal))\n",
    "        hgap=math.floor((imgsize-hcal)/2)\n",
    "        imgwhite[hgap:hcal+hgap,:]=imgresize\n",
    "    return imgwhite"
   ]
  },
  {
   "cell_type": "code",
   "execution_count": null,
   "metadata": {
    "id": "yJvBdQEegeiY"
   },
   "outputs": [],
   "source": [
    "def load_img(a,b):\n",
    "    x=[]\n",
    "    for i in range(1201,3001):     \n",
    "        img=cv2.imread(r\"/content/Signdataset/Signdataset/train/\"+str(a)+\"/\"+str(b)+\"_\"+str(i)+\".jpg\")\n",
    "\n",
    "        try:\n",
    "            if img!=None:\n",
    "                imgw=img.shape[1]\n",
    "                imgh=img.shape[0]\n",
    "                #calling the function resize_img\n",
    "                img=resize_img(img,imgh,imgw)\n",
    "                x.append(img)\n",
    "        except:\n",
    "            imgw=img.shape[1]\n",
    "            imgh=img.shape[0]\n",
    "            img=resize_img(img,imgh,imgw)\n",
    "            x.append(img)\n",
    "    return x\n",
    "#file names\n",
    "numbers=['zero','one','two','three','four','five','six','seven','eight','nine','sum','sub','mul','div','equ','back']\n",
    "#train dataset\n",
    "train=[]\n",
    "#for 0 to 15\n",
    "for i in range(16):\n",
    "    x=load_img(i,numbers[i])   #foldername, filename\n",
    "    train.extend(x)"
   ]
  },
  {
   "cell_type": "code",
   "execution_count": null,
   "metadata": {
    "colab": {
     "base_uri": "https://localhost:8080/"
    },
    "id": "Pzb_y9N1UV5S",
    "outputId": "d9a9ab89-2dc9-446e-ad92-f9a1adb8bdc5"
   },
   "outputs": [
    {
     "data": {
      "text/plain": [
       "28800"
      ]
     },
     "execution_count": 21,
     "metadata": {},
     "output_type": "execute_result"
    }
   ],
   "source": [
    "len(train)"
   ]
  },
  {
   "cell_type": "code",
   "execution_count": null,
   "metadata": {
    "colab": {
     "base_uri": "https://localhost:8080/",
     "height": 455
    },
    "id": "VmvwQ59MruKn",
    "outputId": "3b54a086-3fbe-4bc9-c5be-15e7a0ac3892"
   },
   "outputs": [
    {
     "data": {
      "text/plain": [
       "<matplotlib.image.AxesImage at 0x7f35ca245d50>"
      ]
     },
     "execution_count": 7,
     "metadata": {},
     "output_type": "execute_result"
    },
    {
     "data": {
      "image/png": "[encoded data removed]",
      "text/plain": [
       "<Figure size 480x480 with 1 Axes>"
      ]
     },
     "metadata": {},
     "output_type": "display_data"
    }
   ],
   "source": [
    "plt.matshow(train[19200])"
   ]
  },
  {
   "cell_type": "code",
   "execution_count": null,
   "metadata": {
    "id": "fH4j0LFegmXV"
   },
   "outputs": [],
   "source": [
    "#converting list to array\n",
    "train=np.array(train)"
   ]
  },
  {
   "cell_type": "code",
   "execution_count": null,
   "metadata": {
    "id": "02DvRbGXnEnb"
   },
   "outputs": [],
   "source": [
    "#normalization\n",
    "train=train/255"
   ]
  },
  {
   "cell_type": "code",
   "execution_count": null,
   "metadata": {
    "id": "o2W3059TgrIp"
   },
   "outputs": [],
   "source": [
    "#creating y_train dataset\n",
    "y_train=[]\n",
    "for i in range(0,16):\n",
    "  y_train+=[[i] for _ in range(1800)]\n",
    "\n",
    "#IMPORTANT to convert it into int_\n",
    "y_train=np.array(y_train).astype(np.int_)"
   ]
  },
  {
   "cell_type": "code",
   "execution_count": null,
   "metadata": {
    "colab": {
     "base_uri": "https://localhost:8080/"
    },
    "id": "DJcZi1BA4p-d",
    "outputId": "13785541-e584-42ac-c873-1f9bad07c499"
   },
   "outputs": [
    {
     "data": {
      "text/plain": [
       "28800"
      ]
     },
     "execution_count": 7,
     "metadata": {},
     "output_type": "execute_result"
    }
   ],
   "source": [
    "len(y_train)"
   ]
  },
  {
   "cell_type": "code",
   "execution_count": null,
   "metadata": {
    "id": "7MNF9YQAgmTY"
   },
   "outputs": [],
   "source": [
    "x=None"
   ]
  },
  {
   "cell_type": "markdown",
   "metadata": {
    "id": "fPZg4lVnONBm"
   },
   "source": [
    "# CNN"
   ]
  },
  {
   "cell_type": "code",
   "execution_count": null,
   "metadata": {
    "id": "sv9YjbrjgzXa"
   },
   "outputs": [],
   "source": [
    "#IMPORT lib(s)\n",
    "import tensorflow as tf\n",
    "from tensorflow import keras\n",
    "from tensorflow.keras import layers, models"
   ]
  },
  {
   "cell_type": "code",
   "execution_count": null,
   "metadata": {
    "id": "wXj5WCW0g1tc"
   },
   "outputs": [],
   "source": [
    "inputs=layers.Input(shape=(80, 80, 3))\n",
    "\n",
    "c=(layers.Conv2D(128,(3,3),padding='valid',activation='relu'))(inputs)\n",
    "m=(layers.MaxPooling2D((2,2),(2,2)))(c)\n",
    "\n",
    "c1=(layers.Conv2D(64,(3,3),padding='valid',activation='relu'))(m)\n",
    "m1=(layers.MaxPooling2D((2,2),(2,2)))(c1)\n",
    "c2=(layers.Conv2D(32,(3,3),padding='valid',activation='relu'))(m1)\n",
    "\n",
    "m2=(layers.MaxPooling2D((2,2),(2,2)))(c2)\n",
    "\n",
    "\n",
    "f=layers.Flatten()(m2)\n",
    "\n",
    "d=layers.Dense(32,activation='relu')(f)\n",
    "d1=layers.Dense(24,activation='sigmoid')(d)\n",
    "out=layers.Dense(16,activation='softmax')(d1)"
   ]
  },
  {
   "cell_type": "code",
   "execution_count": null,
   "metadata": {
    "id": "itn2hi8ihAef"
   },
   "outputs": [],
   "source": [
    "#MODEL BINDING\n",
    "model=models.Model(inputs,out)"
   ]
  },
  {
   "cell_type": "code",
   "execution_count": null,
   "metadata": {
    "colab": {
     "base_uri": "https://localhost:8080/"
    },
    "id": "4WNRoHghz5Vl",
    "outputId": "21864a43-3288-4dd4-b7c5-a7cfe88acc36"
   },
   "outputs": [
    {
     "name": "stderr",
     "output_type": "stream",
     "text": [
      "/usr/local/lib/python3.10/dist-packages/keras/optimizers/legacy/adam.py:117: UserWarning: The `lr` argument is deprecated, use `learning_rate` instead.\n",
      "  super().__init__(name, **kwargs)\n"
     ]
    }
   ],
   "source": [
    "adam=Adam(lr=2e-4,beta_1=0.5)"
   ]
  },
  {
   "cell_type": "code",
   "execution_count": null,
   "metadata": {
    "id": "VBzUhpCYhDnv"
   },
   "outputs": [],
   "source": [
    "#compliling\n",
    "#we use sparse_categorical_ce  in case when y_train is not one hot encoded\n",
    "model.compile(optimizer=adam,loss='sparse_categorical_crossentropy', metrics=['accuracy'])"
   ]
  },
  {
   "cell_type": "code",
   "execution_count": null,
   "metadata": {
    "colab": {
     "base_uri": "https://localhost:8080/"
    },
    "id": "PbHRht5rQtw2",
    "outputId": "791eaf10-bfc4-4d45-e3ae-b12db0392411"
   },
   "outputs": [
    {
     "name": "stdout",
     "output_type": "stream",
     "text": [
      "Model: \"model\"\n",
      "_________________________________________________________________\n",
      " Layer (type)                Output Shape              Param #   \n",
      "=================================================================\n",
      " input_1 (InputLayer)        [(None, 80, 80, 3)]       0         \n",
      "                                                                 \n",
      " conv2d (Conv2D)             (None, 78, 78, 128)       3584      \n",
      "                                                                 \n",
      " max_pooling2d (MaxPooling2D  (None, 39, 39, 128)      0         \n",
      " )                                                               \n",
      "                                                                 \n",
      " conv2d_1 (Conv2D)           (None, 37, 37, 64)        73792     \n",
      "                                                                 \n",
      " max_pooling2d_1 (MaxPooling  (None, 18, 18, 64)       0         \n",
      " 2D)                                                             \n",
      "                                                                 \n",
      " conv2d_2 (Conv2D)           (None, 16, 16, 32)        18464     \n",
      "                                                                 \n",
      " max_pooling2d_2 (MaxPooling  (None, 8, 8, 32)         0         \n",
      " 2D)                                                             \n",
      "                                                                 \n",
      " flatten (Flatten)           (None, 2048)              0         \n",
      "                                                                 \n",
      " dense (Dense)               (None, 32)                65568     \n",
      "                                                                 \n",
      " dense_1 (Dense)             (None, 24)                792       \n",
      "                                                                 \n",
      " dense_2 (Dense)             (None, 16)                400       \n",
      "                                                                 \n",
      "=================================================================\n",
      "Total params: 162,600\n",
      "Trainable params: 162,600\n",
      "Non-trainable params: 0\n",
      "_________________________________________________________________\n"
     ]
    }
   ],
   "source": [
    "model.summary()"
   ]
  },
  {
   "cell_type": "code",
   "execution_count": null,
   "metadata": {
    "colab": {
     "base_uri": "https://localhost:8080/"
    },
    "id": "NpWdx7224_oa",
    "outputId": "aae405c9-1632-4846-ecfd-ba1aa1f755e6"
   },
   "outputs": [
    {
     "name": "stdout",
     "output_type": "stream",
     "text": [
      "Requirement already satisfied: visualkeras in /usr/local/lib/python3.10/dist-packages (0.0.2)\n",
      "Requirement already satisfied: pillow>=6.2.0 in /usr/local/lib/python3.10/dist-packages (from visualkeras) (8.4.0)\n",
      "Requirement already satisfied: numpy>=1.18.1 in /usr/local/lib/python3.10/dist-packages (from visualkeras) (1.22.4)\n",
      "Requirement already satisfied: aggdraw>=1.3.11 in /usr/local/lib/python3.10/dist-packages (from visualkeras) (1.3.16)\n"
     ]
    }
   ],
   "source": [
    "!pip install visualkeras"
   ]
  },
  {
   "cell_type": "code",
   "execution_count": null,
   "metadata": {
    "colab": {
     "base_uri": "https://localhost:8080/",
     "height": 480
    },
    "id": "lqp6lMp15KIE",
    "outputId": "0bf5d9b1-bbef-4a54-c272-a86a429a37db"
   },
   "outputs": [
    {
     "data": {
      "image/png": "[encoded data removed]",
      "text/plain": [
       "<PIL.Image.Image image mode=RGBA size=582x463 at 0x7F7706647160>"
      ]
     },
     "execution_count": 16,
     "metadata": {},
     "output_type": "execute_result"
    }
   ],
   "source": [
    "#To visualize the stucture of the model\n",
    "import visualkeras\n",
    "visualkeras.layered_view(model, legend=True)"
   ]
  },
  {
   "cell_type": "code",
   "execution_count": null,
   "metadata": {
    "colab": {
     "base_uri": "https://localhost:8080/"
    },
    "id": "8l8nL1FdhHtG",
    "outputId": "07e2a449-2e03-45dd-bab5-b2ab5892dea5"
   },
   "outputs": [
    {
     "name": "stdout",
     "output_type": "stream",
     "text": [
      "Epoch 1/20\n",
      "900/900 [==============================] - 24s 14ms/step - loss: 1.5854 - accuracy: 0.7566\n",
      "Epoch 2/20\n",
      "900/900 [==============================] - 13s 14ms/step - loss: 0.7060 - accuracy: 0.9861\n",
      "Epoch 3/20\n",
      "900/900 [==============================] - 13s 14ms/step - loss: 0.3516 - accuracy: 0.9971\n",
      "Epoch 4/20\n",
      "900/900 [==============================] - 13s 14ms/step - loss: 0.1889 - accuracy: 0.9991\n",
      "Epoch 5/20\n",
      "900/900 [==============================] - 13s 14ms/step - loss: 0.1110 - accuracy: 0.9998\n",
      "Epoch 6/20\n",
      "900/900 [==============================] - 13s 14ms/step - loss: 0.0697 - accuracy: 0.9998\n",
      "Epoch 7/20\n",
      "900/900 [==============================] - 13s 14ms/step - loss: 0.0456 - accuracy: 0.9997\n",
      "Epoch 8/20\n",
      "900/900 [==============================] - 12s 14ms/step - loss: 0.0264 - accuracy: 0.9999\n",
      "Epoch 9/20\n",
      "900/900 [==============================] - 12s 14ms/step - loss: 0.0219 - accuracy: 0.9987\n",
      "Epoch 10/20\n",
      "900/900 [==============================] - 12s 14ms/step - loss: 0.0128 - accuracy: 0.9998\n",
      "Epoch 11/20\n",
      "900/900 [==============================] - 13s 14ms/step - loss: 0.0093 - accuracy: 0.9999\n",
      "Epoch 12/20\n",
      "900/900 [==============================] - 13s 14ms/step - loss: 0.0061 - accuracy: 0.9999\n",
      "Epoch 13/20\n",
      "900/900 [==============================] - 12s 14ms/step - loss: 0.0043 - accuracy: 0.9999\n",
      "Epoch 14/20\n",
      "900/900 [==============================] - 12s 14ms/step - loss: 0.0030 - accuracy: 0.9999\n",
      "Epoch 15/20\n",
      "900/900 [==============================] - 13s 14ms/step - loss: 0.0021 - accuracy: 0.9999\n",
      "Epoch 16/20\n",
      "900/900 [==============================] - 12s 14ms/step - loss: 0.0016 - accuracy: 0.9999\n",
      "Epoch 17/20\n",
      "900/900 [==============================] - 12s 14ms/step - loss: 0.0101 - accuracy: 0.9976\n",
      "Epoch 18/20\n",
      "900/900 [==============================] - 13s 14ms/step - loss: 0.0021 - accuracy: 0.9998\n",
      "Epoch 19/20\n",
      "900/900 [==============================] - 12s 14ms/step - loss: 0.0012 - accuracy: 0.9999\n",
      "Epoch 20/20\n",
      "900/900 [==============================] - 12s 14ms/step - loss: 0.0010 - accuracy: 1.0000\n"
     ]
    },
    {
     "data": {
      "text/plain": [
       "<keras.callbacks.History at 0x7f77066af190>"
      ]
     },
     "execution_count": 17,
     "metadata": {},
     "output_type": "execute_result"
    }
   ],
   "source": [
    "#training\n",
    "model.fit(train,y_train,epochs=20)"
   ]
  },
  {
   "cell_type": "code",
   "execution_count": null,
   "metadata": {
    "id": "jcThT3k3hRAe"
   },
   "outputs": [],
   "source": [
    "#evaluation over training set\n",
    "#model.evaluate(train,y_train)"
   ]
  },
  {
   "cell_type": "code",
   "execution_count": null,
   "metadata": {
    "id": "-fce8EQbhRxr"
   },
   "outputs": [],
   "source": [
    "#save the model\n",
    "model.save('calculator7.h5')"
   ]
  },
  {
   "cell_type": "code",
   "execution_count": null,
   "metadata": {
    "id": "_i7Ds4nzSITF"
   },
   "outputs": [],
   "source": []
  }
 ],
 "metadata": {
  "accelerator": "GPU",
  "colab": {
   "gpuType": "T4",
   "provenance": []
  },
  "kernelspec": {
   "display_name": "Python 3",
   "language": "python",
   "name": "python3"
  },
  "language_info": {
   "codemirror_mode": {
    "name": "ipython",
    "version": 3
   },
   "file_extension": ".py",
   "mimetype": "text/x-python",
   "name": "python",
   "nbconvert_exporter": "python",
   "pygments_lexer": "ipython3",
   "version": "3.8.8"
  }
 },
 "nbformat": 4,
 "nbformat_minor": 1
}
