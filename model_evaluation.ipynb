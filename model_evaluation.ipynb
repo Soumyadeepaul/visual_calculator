{
 "cells": [
  {
   "cell_type": "code",
   "execution_count": 1,
   "id": "74f510cc",
   "metadata": {},
   "outputs": [],
   "source": [
    "#IMPORT lib(s)\n",
    "import matplotlib.pyplot as plt\n",
    "import random\n",
    "import os\n",
    "import matplotlib.image as mpimg\n",
    "import cv2\n",
    "import numpy as np\n",
    "import math"
   ]
  },
  {
   "cell_type": "code",
   "execution_count": 2,
   "id": "a968284b",
   "metadata": {},
   "outputs": [],
   "source": [
    "from tensorflow.keras.models import load_model"
   ]
  },
  {
   "cell_type": "code",
   "execution_count": 3,
   "id": "0beb4764",
   "metadata": {},
   "outputs": [],
   "source": [
    "model=load_model(r'C:\\Users\\Lenovo\\nn_calculator_project\\calculator7.h5')"
   ]
  },
  {
   "cell_type": "code",
   "execution_count": null,
   "id": "d8097050",
   "metadata": {},
   "outputs": [],
   "source": []
  },
  {
   "cell_type": "code",
   "execution_count": 4,
   "id": "2d1080ce",
   "metadata": {},
   "outputs": [],
   "source": [
    "#IMPORTANT\n",
    "def resize_img(img,imgh,imgw):\n",
    "    imgsize=80\n",
    "    imgwhite=np.ones((imgsize,imgsize,3),np.uint8)*255\n",
    "    aspectRation=imgh/imgw\n",
    "    if aspectRation>1:\n",
    "        k=imgsize/imgh\n",
    "        #print(k)\n",
    "        wcal=math.floor(k*imgw)\n",
    "        #print(wcal)\n",
    "        imgresize=cv2.resize(img,(wcal,imgsize))\n",
    "        #plt.matshow(imgresize)\n",
    "        imgw=imgresize.shape[1]\n",
    "        imgh=imgresize.shape[0]\n",
    "        wgap=math.floor((imgsize-wcal)/2)\n",
    "        imgwhite[:,wgap:wcal+wgap]=imgresize\n",
    "\n",
    "    else:\n",
    "        k=imgsize/imgw\n",
    "        hcal=math.floor(k*imgh)\n",
    "        imgresize=cv2.resize(img,(imgsize,hcal))\n",
    "        imgw=imgresize.shape[1]\n",
    "        imgh=imgresize.shape[0]\n",
    "        hgap=math.floor((imgsize-hcal)/2)\n",
    "        imgwhite[hgap:hcal+hgap,:]=imgresize\n",
    "    return imgwhite"
   ]
  },
  {
   "cell_type": "code",
   "execution_count": 5,
   "id": "12fe929f",
   "metadata": {},
   "outputs": [],
   "source": [
    "def load_img(a,b):\n",
    "    x=[]\n",
    "    for i in range(1201):     #len(os.listdir(r'D:\\Sign Language for Numbers\\0'))):\n",
    "        img=cv2.imread(r\"D:\\Signdataset\\test\\\\\"+str(a)+\"\\\\\"+str(b)+\"_\"+str(i)+\".jpg\")\n",
    "        \n",
    "        try:\n",
    "            if img!=None:\n",
    "                imgw=img.shape[1]\n",
    "                imgh=img.shape[0]\n",
    "                #calling the function resize_img\n",
    "                img=resize_img(img,imgh,imgw)\n",
    "                x.append(img)\n",
    "        except:\n",
    "            imgw=img.shape[1]\n",
    "            imgh=img.shape[0]\n",
    "            img=resize_img(img,imgh,imgw)\n",
    "            x.append(img)\n",
    "    return x\n",
    "#file names\n",
    "numbers=['zero','one','two','three','four','five','six','seven','eight','nine','sum','sub','mul','div','equ','back']\n",
    "#train dataset\n",
    "train=[]\n",
    "#for 0 to 15\n",
    "for i in range(16):\n",
    "    x=load_img(i,numbers[i])   #foldername, filename\n",
    "    train.extend(x)"
   ]
  },
  {
   "cell_type": "code",
   "execution_count": 6,
   "id": "86b6d009",
   "metadata": {},
   "outputs": [],
   "source": [
    "#converting list to array\n",
    "train=np.array(train)\n",
    "#normalization\n",
    "train=train/255"
   ]
  },
  {
   "cell_type": "code",
   "execution_count": 7,
   "id": "e8457dfa",
   "metadata": {},
   "outputs": [
    {
     "data": {
      "text/plain": [
       "(19200, 80, 80, 3)"
      ]
     },
     "execution_count": 7,
     "metadata": {},
     "output_type": "execute_result"
    }
   ],
   "source": [
    "train.shape"
   ]
  },
  {
   "cell_type": "code",
   "execution_count": 8,
   "id": "36adf47b",
   "metadata": {},
   "outputs": [],
   "source": [
    "#creating y_train dataset\n",
    "y_train=[]\n",
    "for i in range(0,16):\n",
    "  y_train+=[[i] for _ in range(1200)]\n",
    "\n",
    "#IMPORTANT to convert it into int_\n",
    "y_train=np.array(y_train).astype(np.int_)"
   ]
  },
  {
   "cell_type": "code",
   "execution_count": 9,
   "id": "e71475f6",
   "metadata": {},
   "outputs": [
    {
     "data": {
      "text/plain": [
       "<matplotlib.image.AxesImage at 0x1ea4f862790>"
      ]
     },
     "execution_count": 9,
     "metadata": {},
     "output_type": "execute_result"
    },
    {
     "data": {
      "image/png": "[encoded data removed]",
      "text/plain": [
       "<Figure size 288x288 with 1 Axes>"
      ]
     },
     "metadata": {
      "needs_background": "light"
     },
     "output_type": "display_data"
    }
   ],
   "source": [
    "plt.matshow(train[1990])"
   ]
  },
  {
   "cell_type": "code",
   "execution_count": 35,
   "id": "51c80465",
   "metadata": {},
   "outputs": [
    {
     "name": "stdout",
     "output_type": "stream",
     "text": [
      "600/600 [==============================] - 94s 150ms/step - loss: 0.1117 - accuracy: 0.9698\n"
     ]
    },
    {
     "data": {
      "text/plain": [
       "[0.11174063384532928, 0.9698437452316284]"
      ]
     },
     "execution_count": 35,
     "metadata": {},
     "output_type": "execute_result"
    }
   ],
   "source": [
    "model.evaluate(train,y_train)  #4"
   ]
  },
  {
   "cell_type": "code",
   "execution_count": 31,
   "id": "0364e127",
   "metadata": {},
   "outputs": [
    {
     "name": "stdout",
     "output_type": "stream",
     "text": [
      "600/600 [==============================] - 65s 96ms/step - loss: 0.5723 - accuracy: 0.9209\n"
     ]
    },
    {
     "data": {
      "text/plain": [
       "[0.5722635984420776, 0.9209374785423279]"
      ]
     },
     "execution_count": 31,
     "metadata": {},
     "output_type": "execute_result"
    }
   ],
   "source": [
    "model.evaluate(train,y_train)  #5"
   ]
  },
  {
   "cell_type": "code",
   "execution_count": 33,
   "id": "efd3efe3",
   "metadata": {},
   "outputs": [
    {
     "name": "stdout",
     "output_type": "stream",
     "text": [
      "600/600 [==============================] - 132s 203ms/step - loss: 0.3140 - accuracy: 0.9168\n"
     ]
    },
    {
     "data": {
      "text/plain": [
       "[0.3140217959880829, 0.9167708158493042]"
      ]
     },
     "execution_count": 33,
     "metadata": {},
     "output_type": "execute_result"
    }
   ],
   "source": [
    "model.evaluate(train,y_train)  #6"
   ]
  },
  {
   "cell_type": "code",
   "execution_count": 10,
   "id": "c83ffe00",
   "metadata": {},
   "outputs": [
    {
     "name": "stdout",
     "output_type": "stream",
     "text": [
      "600/600 [==============================] - 68s 100ms/step - loss: 0.1314 - accuracy: 0.9695\n"
     ]
    },
    {
     "data": {
      "text/plain": [
       "[0.13137806951999664, 0.969531238079071]"
      ]
     },
     "execution_count": 10,
     "metadata": {},
     "output_type": "execute_result"
    }
   ],
   "source": [
    "model.evaluate(train,y_train)  #7"
   ]
  },
  {
   "cell_type": "code",
   "execution_count": 11,
   "id": "eea2753a",
   "metadata": {},
   "outputs": [],
   "source": [
    "from cvzone.HandTrackingModule import HandDetector"
   ]
  },
  {
   "cell_type": "code",
   "execution_count": 12,
   "id": "32b8d585",
   "metadata": {},
   "outputs": [],
   "source": [
    "import time"
   ]
  },
  {
   "cell_type": "code",
   "execution_count": 13,
   "id": "feeb04f6",
   "metadata": {},
   "outputs": [],
   "source": [
    "#IMPORTANT\n",
    "def resize_img(img,imgh,imgw):\n",
    "    imgsize=80\n",
    "    imgwhite=np.ones((imgsize,imgsize,3),np.uint8)*255\n",
    "    aspectRation=imgh/imgw\n",
    "    if aspectRation>1:\n",
    "        k=imgsize/imgh\n",
    "        #print(k)\n",
    "        wcal=math.ceil(k*imgw)\n",
    "        #print(wcal)\n",
    "        imgresize=cv2.resize(img,(wcal,imgsize))\n",
    "        #plt.matshow(imgresize)\n",
    "        imgw=imgresize.shape[1]\n",
    "        imgh=imgresize.shape[0]\n",
    "        wgap=math.ceil((imgsize-wcal)/2)\n",
    "        imgwhite[:,wgap:wcal+wgap]=imgresize\n",
    "\n",
    "    else:\n",
    "        k=imgsize/imgw\n",
    "        hcal=math.ceil(k*imgh)\n",
    "        imgresize=cv2.resize(img,(imgsize,hcal))\n",
    "        imgw=imgresize.shape[1]\n",
    "        imgh=imgresize.shape[0]\n",
    "        hgap=math.ceil((imgsize-hcal)/2)\n",
    "        imgwhite[hgap:hcal+hgap,:]=imgresize\n",
    "    return imgwhite"
   ]
  },
  {
   "cell_type": "code",
   "execution_count": 14,
   "id": "75224c9f",
   "metadata": {},
   "outputs": [],
   "source": [
    "def prediction(img):\n",
    "    m=resize_img(img,len(img),len(img[0]))\n",
    "    m=m/255\n",
    "    m=np.array([m])\n",
    "    s=model.predict(m,verbose=0)\n",
    "    return np.argmax(s)"
   ]
  },
  {
   "cell_type": "code",
   "execution_count": 18,
   "id": "66ade338",
   "metadata": {},
   "outputs": [
    {
     "name": "stdout",
     "output_type": "stream",
     "text": [
      "4\n",
      "\n",
      "9\n",
      "98\n",
      "98*\n",
      "98*7\n",
      "98*76\n",
      "98*76-\n",
      "98*76-5\n",
      "98*76-54\n",
      "98*76-54/\n",
      "98*76-54/2\n",
      "98*76-54/\n",
      "98*76-54/2\n",
      "98*76-54/\n",
      "98*76-54/3\n",
      "98*76-54/32\n",
      "98*76-54/32+\n",
      "98*76-54/32+1\n",
      "98*76-54/32+10\n",
      "Enter 's' if you want to calculate or press any key to continue: s\n",
      "7456.3125\n"
     ]
    }
   ],
   "source": [
    "cap=cv2.VideoCapture(0)\n",
    "detector=HandDetector(maxHands=1)\n",
    "\n",
    "offset=20\n",
    "imgsize=80\n",
    "prev=time.time()\n",
    "k=[]\n",
    "string=''\n",
    "while True:\n",
    "    success,img=cap.read()\n",
    "    hands,img=detector.findHands(img)\n",
    "    if hands:\n",
    "        hand=hands[0]\n",
    "        x,y,w,h=hand['bbox']\n",
    "        \n",
    "        imgCrop=img[y-offset:y+h+offset,x-offset:x+w+offset]\n",
    "        \n",
    "        cur=time.time()\n",
    "        if cur-prev>3:\n",
    "            prev=cur\n",
    "            result=prediction(imgCrop)\n",
    "            if len(string)!=0 and result==0:\n",
    "                if string[len(string)-1] in ['+','-','*','/']:\n",
    "                    pass\n",
    "                else:\n",
    "                    string+=str(result)\n",
    "            elif string=='' and (result==0 or result==10 or result==11 or result==12 or result==13):\n",
    "                string=''\n",
    "            elif result==10:\n",
    "                string+='+'\n",
    "            elif result==11:\n",
    "                string+='-'\n",
    "            elif result==12:\n",
    "                string+='*'\n",
    "            elif result==13:\n",
    "                string+='/'\n",
    "            elif string=='' and result==15:\n",
    "                string=''\n",
    "            elif string!='' and result==15:  #DELETE\n",
    "                string=string[:len(string)-1]\n",
    "            elif string=='' and result==14:\n",
    "                print(\"No output\")\n",
    "                break\n",
    "            elif string!='' and result==14:\n",
    "                valid=input(\"Enter 's' if you want to calculate or press any key to continue: \")\n",
    "                if valid=='s':\n",
    "                    print(eval(string))\n",
    "                    break\n",
    "                else:\n",
    "                    pass\n",
    "            else:\n",
    "                string+=str(result)\n",
    "            print(string)\n",
    "        cv2.imshow(\"Imgae Crop\",imgCrop)\n",
    "    cv2.imshow(\"Imgae\",img)\n",
    "    cv2.waitKey(1)"
   ]
  },
  {
   "cell_type": "code",
   "execution_count": 17,
   "id": "146363e6",
   "metadata": {},
   "outputs": [
    {
     "data": {
      "text/plain": [
       "7456.3125"
      ]
     },
     "execution_count": 17,
     "metadata": {},
     "output_type": "execute_result"
    }
   ],
   "source": [
    "98*76-54/32+10"
   ]
  },
  {
   "cell_type": "code",
   "execution_count": null,
   "id": "4888f188",
   "metadata": {},
   "outputs": [],
   "source": []
  },
  {
   "cell_type": "code",
   "execution_count": 19,
   "id": "c45310e7",
   "metadata": {},
   "outputs": [],
   "source": [
    "model=load_model(r'C:\\Users\\Lenovo\\nn_calculator_project\\calculator4.h5')"
   ]
  },
  {
   "cell_type": "code",
   "execution_count": 21,
   "id": "caf39b03",
   "metadata": {},
   "outputs": [
    {
     "name": "stdout",
     "output_type": "stream",
     "text": [
      "9\n",
      "98\n",
      "985\n",
      "98\n",
      "98*\n",
      "98*6\n",
      "98*\n",
      "98*7\n",
      "98*76\n",
      "98*76-\n",
      "98*76-5\n",
      "98*76-54\n",
      "98*76-545\n",
      "98*76-54\n",
      "98*76-54/\n",
      "98*76-54/3\n",
      "98*76-54/32\n",
      "98*76-54/32+\n",
      "98*76-54/32+1\n",
      "98*76-54/32+10\n",
      "Enter 's' if you want to calculate or press any key to continue: s\n",
      "7456.3125\n"
     ]
    }
   ],
   "source": [
    "cap=cv2.VideoCapture(0)\n",
    "detector=HandDetector(maxHands=1)\n",
    "\n",
    "offset=20\n",
    "imgsize=80\n",
    "prev=time.time()\n",
    "k=[]\n",
    "string=''\n",
    "while True:\n",
    "    success,img=cap.read()\n",
    "    hands,img=detector.findHands(img)\n",
    "    if hands:\n",
    "        hand=hands[0]\n",
    "        x,y,w,h=hand['bbox']\n",
    "        \n",
    "        imgCrop=img[y-offset:y+h+offset,x-offset:x+w+offset]\n",
    "        \n",
    "        cur=time.time()\n",
    "        if cur-prev>3:\n",
    "            prev=cur\n",
    "            result=prediction(imgCrop)\n",
    "            if len(string)!=0 and result==0:\n",
    "                if string[len(string)-1] in ['+','-','*','/']:\n",
    "                    pass\n",
    "                else:\n",
    "                    string+=str(result)\n",
    "            elif string=='' and (result==0 or result==10 or result==11 or result==12 or result==13):\n",
    "                string=''\n",
    "            elif result==10:\n",
    "                string+='+'\n",
    "            elif result==11:\n",
    "                string+='-'\n",
    "            elif result==12:\n",
    "                string+='*'\n",
    "            elif result==13:\n",
    "                string+='/'\n",
    "            elif string=='' and result==15:\n",
    "                string=''\n",
    "            elif string!='' and result==15:  #DELETE\n",
    "                string=string[:len(string)-1]\n",
    "            elif string=='' and result==14:\n",
    "                print(\"No output\")\n",
    "                break\n",
    "            elif string!='' and result==14:\n",
    "                valid=input(\"Enter 's' if you want to calculate or press any key to continue: \")\n",
    "                if valid=='s':\n",
    "                    print(eval(string))\n",
    "                    break\n",
    "                else:\n",
    "                    pass\n",
    "            else:\n",
    "                string+=str(result)\n",
    "            print(string)\n",
    "        cv2.imshow(\"Imgae Crop\",imgCrop)\n",
    "    cv2.imshow(\"Imgae\",img)\n",
    "    cv2.waitKey(1)"
   ]
  },
  {
   "cell_type": "code",
   "execution_count": null,
   "id": "6a01418b",
   "metadata": {},
   "outputs": [],
   "source": [
    "98*76-54/32+10"
   ]
  }
 ],
 "metadata": {
  "kernelspec": {
   "display_name": "Python 3",
   "language": "python",
   "name": "python3"
  },
  "language_info": {
   "codemirror_mode": {
    "name": "ipython",
    "version": 3
   },
   "file_extension": ".py",
   "mimetype": "text/x-python",
   "name": "python",
   "nbconvert_exporter": "python",
   "pygments_lexer": "ipython3",
   "version": "3.8.8"
  }
 },
 "nbformat": 4,
 "nbformat_minor": 5
}
