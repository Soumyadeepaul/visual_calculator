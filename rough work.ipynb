{
 "cells": [
  {
   "cell_type": "code",
   "execution_count": null,
   "id": "f052247b",
   "metadata": {},
   "outputs": [],
   "source": []
  },
  {
   "cell_type": "code",
   "execution_count": 10,
   "id": "ea33ee2c",
   "metadata": {},
   "outputs": [],
   "source": [
    "import matplotlib.pyplot as plt\n",
    "import random\n",
    "import os\n",
    "import matplotlib.image as mpimg"
   ]
  },
  {
   "cell_type": "code",
   "execution_count": 11,
   "id": "512b6a30",
   "metadata": {},
   "outputs": [],
   "source": [
    "import cv2"
   ]
  },
  {
   "cell_type": "code",
   "execution_count": 12,
   "id": "00ed2f21",
   "metadata": {},
   "outputs": [],
   "source": [
    "import numpy as np"
   ]
  },
  {
   "cell_type": "code",
   "execution_count": 13,
   "id": "bc372ef1",
   "metadata": {},
   "outputs": [],
   "source": [
    "import math"
   ]
  },
  {
   "cell_type": "code",
   "execution_count": 15,
   "id": "61e97bf3",
   "metadata": {},
   "outputs": [],
   "source": [
    "#IMPORTANT\n",
    "def resize_img(img,imgh,imgw):\n",
    "    imgsize=80\n",
    "    imgwhite=np.ones((imgsize,imgsize,3),np.uint8)*255\n",
    "    aspectRation=imgh/imgw\n",
    "    if aspectRation>1:\n",
    "        k=imgsize/imgh\n",
    "        #print(k)\n",
    "        wcal=math.ceil(k*imgw)\n",
    "        #print(wcal)\n",
    "        imgresize=cv2.resize(img,(wcal,imgsize))\n",
    "        #plt.matshow(imgresize)\n",
    "        imgw=imgresize.shape[1]\n",
    "        imgh=imgresize.shape[0]\n",
    "        wgap=math.ceil((imgsize-wcal)/2)\n",
    "        imgwhite[:,wgap:wcal+wgap]=imgresize\n",
    "\n",
    "    else:\n",
    "        k=imgsize/imgw\n",
    "        hcal=math.ceil(k*imgh)\n",
    "        imgresize=cv2.resize(img,(imgsize,hcal))\n",
    "        imgw=imgresize.shape[1]\n",
    "        imgh=imgresize.shape[0]\n",
    "        hgap=math.ceil((imgsize-hcal)/2)\n",
    "        imgwhite[hgap:hcal+hgap,:]=imgresize\n",
    "    return imgwhite"
   ]
  },
  {
   "cell_type": "code",
   "execution_count": 34,
   "id": "e9981a74",
   "metadata": {},
   "outputs": [],
   "source": [
    "def load_img(a,b):\n",
    "    x=[]\n",
    "    for i in range(1,1501):     #len(os.listdir(r'D:\\Sign Language for Numbers\\0'))):\n",
    "        img=cv2.imread(r\"D:\\Sign Language for Numbers\\\\\"+str(a)+\"\\\\\"+str(b)+\"_\"+str(i)+\".jpg\")\n",
    "        try:\n",
    "            if img!=None:\n",
    "                imgw=img.shape[1]\n",
    "                imgh=img.shape[0]\n",
    "                img=resize_img(img,imgh,imgw)\n",
    "                x.append(img)\n",
    "        except:\n",
    "            imgw=img.shape[1]\n",
    "            imgh=img.shape[0]\n",
    "            img=resize_img(img,imgh,imgw)\n",
    "            x.append(img)\n",
    "    x1=x[:1200]\n",
    "    y=x[1200:]\n",
    "    return (x1,y)\n",
    "numbers=['zero','one','two','three','four','five','six','seven','eight','nine']\n",
    "train=[]\n",
    "test=[]\n",
    "for i in range(10):\n",
    "    x,y=load_img(i,numbers[i])\n",
    "    train.extend(x)\n",
    "    test.extend(y)"
   ]
  },
  {
   "cell_type": "code",
   "execution_count": 17,
   "id": "dd12d082",
   "metadata": {},
   "outputs": [
    {
     "data": {
      "text/plain": [
       "2983"
      ]
     },
     "execution_count": 17,
     "metadata": {},
     "output_type": "execute_result"
    }
   ],
   "source": [
    "len(test)"
   ]
  },
  {
   "cell_type": "code",
   "execution_count": 35,
   "id": "0ff3bfc0",
   "metadata": {},
   "outputs": [],
   "source": [
    "def load_img(a,b):\n",
    "    x=[]\n",
    "    for i in range(1,1501):     #len(os.listdir(r'D:\\Sign Language for Numbers\\0'))):\n",
    "        img=cv2.imread(r\"D:\\Sign Language for Numbers\\\\\"+str(a)+\"\\\\\"+str(b)+str(i)+\".jpg\")\n",
    "        try:\n",
    "            if img!=None:\n",
    "                imgw=img.shape[1]\n",
    "                imgh=img.shape[0]\n",
    "                img=resize_img(img,imgh,imgw)\n",
    "                x.append(img)\n",
    "        except:\n",
    "            imgw=img.shape[1]\n",
    "            imgh=img.shape[0]\n",
    "            img=resize_img(img,imgh,imgw)\n",
    "            x.append(img)\n",
    "    x1=x[:1200]\n",
    "    y=x[1200:]\n",
    "    return (x1,y)\n",
    "numbers=['U','G','S','M','del','C']\n",
    "for i in range(10,16):\n",
    "    x,y=load_img(i,numbers[i-10])\n",
    "    train.extend(x)\n",
    "    test.extend(y)"
   ]
  },
  {
   "cell_type": "code",
   "execution_count": 19,
   "id": "6a1f0b3b",
   "metadata": {},
   "outputs": [
    {
     "data": {
      "text/plain": [
       "18000"
      ]
     },
     "execution_count": 19,
     "metadata": {},
     "output_type": "execute_result"
    }
   ],
   "source": [
    "len(train)"
   ]
  },
  {
   "cell_type": "code",
   "execution_count": 33,
   "id": "fc9373de",
   "metadata": {},
   "outputs": [
    {
     "data": {
      "text/plain": [
       "4483"
      ]
     },
     "execution_count": 33,
     "metadata": {},
     "output_type": "execute_result"
    }
   ],
   "source": [
    "len(test)"
   ]
  },
  {
   "cell_type": "code",
   "execution_count": 36,
   "id": "57ba34cf",
   "metadata": {},
   "outputs": [],
   "source": [
    "import numpy as np\n",
    "train=np.array(train)\n",
    "test=np.array(test)"
   ]
  },
  {
   "cell_type": "code",
   "execution_count": 28,
   "id": "2c2abebd",
   "metadata": {},
   "outputs": [
    {
     "data": {
      "text/plain": [
       "(18000, 80, 80, 3)"
      ]
     },
     "execution_count": 28,
     "metadata": {},
     "output_type": "execute_result"
    }
   ],
   "source": [
    "train.shape"
   ]
  },
  {
   "cell_type": "code",
   "execution_count": 15,
   "id": "7e14be28",
   "metadata": {},
   "outputs": [
    {
     "data": {
      "text/plain": [
       "<matplotlib.image.AxesImage at 0x210b37dd3a0>"
      ]
     },
     "execution_count": 15,
     "metadata": {},
     "output_type": "execute_result"
    },
    {
     "data": {
      "image/png": "[encoded data removed]",
      "text/plain": [
       "<Figure size 288x288 with 1 Axes>"
      ]
     },
     "metadata": {
      "needs_background": "light"
     },
     "output_type": "display_data"
    }
   ],
   "source": [
    "plt.matshow(train[16000])"
   ]
  },
  {
   "cell_type": "code",
   "execution_count": 12,
   "id": "86ecf644",
   "metadata": {},
   "outputs": [
    {
     "data": {
      "text/plain": [
       "<matplotlib.image.AxesImage at 0x1d8c9f81a30>"
      ]
     },
     "execution_count": 12,
     "metadata": {},
     "output_type": "execute_result"
    },
    {
     "data": {
      "image/png": "[encoded data removed]",
      "text/plain": [
       "<Figure size 288x288 with 1 Axes>"
      ]
     },
     "metadata": {
      "needs_background": "light"
     },
     "output_type": "display_data"
    }
   ],
   "source": [
    "plt.matshow(test[0])"
   ]
  },
  {
   "cell_type": "code",
   "execution_count": 29,
   "id": "8962d02a",
   "metadata": {},
   "outputs": [],
   "source": [
    "train=train/255\n",
    "test=test/255"
   ]
  },
  {
   "cell_type": "code",
   "execution_count": null,
   "id": "c0503246",
   "metadata": {},
   "outputs": [],
   "source": []
  },
  {
   "cell_type": "code",
   "execution_count": 14,
   "id": "211e4a09",
   "metadata": {},
   "outputs": [
    {
     "data": {
      "text/plain": [
       "<matplotlib.image.AxesImage at 0x1d8d9d66640>"
      ]
     },
     "execution_count": 14,
     "metadata": {},
     "output_type": "execute_result"
    },
    {
     "data": {
      "image/png": "[encoded data removed]",
      "text/plain": [
       "<Figure size 288x288 with 1 Axes>"
      ]
     },
     "metadata": {
      "needs_background": "light"
     },
     "output_type": "display_data"
    }
   ],
   "source": [
    "plt.matshow(train[0])"
   ]
  },
  {
   "cell_type": "code",
   "execution_count": 15,
   "id": "c3281f42",
   "metadata": {},
   "outputs": [],
   "source": [
    "y_train=[]"
   ]
  },
  {
   "cell_type": "code",
   "execution_count": 16,
   "id": "c5556fa4",
   "metadata": {},
   "outputs": [],
   "source": [
    "for i in range(15):\n",
    "    y_train+=[[i] for _ in range(1200)]\n",
    "    "
   ]
  },
  {
   "cell_type": "code",
   "execution_count": 17,
   "id": "5d3d9ff1",
   "metadata": {},
   "outputs": [
    {
     "data": {
      "text/plain": [
       "12000"
      ]
     },
     "execution_count": 17,
     "metadata": {},
     "output_type": "execute_result"
    }
   ],
   "source": [
    "len(y_train)"
   ]
  },
  {
   "cell_type": "code",
   "execution_count": 18,
   "id": "1d688cbb",
   "metadata": {},
   "outputs": [],
   "source": [
    "y_train=np.array(y_train).astype(np.int_)"
   ]
  },
  {
   "cell_type": "code",
   "execution_count": 37,
   "id": "b2071012",
   "metadata": {},
   "outputs": [],
   "source": [
    "y_test=[[0] for _ in range(283)]\n",
    "for i in range(1,16):\n",
    "    y_test+=[[i] for _ in range(300)]\n",
    "    \n",
    "y_test=np.array(y_test).astype(np.int_)"
   ]
  },
  {
   "cell_type": "code",
   "execution_count": 38,
   "id": "032ec839",
   "metadata": {},
   "outputs": [
    {
     "data": {
      "text/plain": [
       "(4783, 1)"
      ]
     },
     "execution_count": 38,
     "metadata": {},
     "output_type": "execute_result"
    }
   ],
   "source": [
    "y_test.shape"
   ]
  },
  {
   "cell_type": "code",
   "execution_count": 39,
   "id": "47e0d514",
   "metadata": {},
   "outputs": [],
   "source": [
    "model=load_model(r'C:\\Users\\Lenovo\\Downloads\\calculator3.h5')"
   ]
  },
  {
   "cell_type": "code",
   "execution_count": 40,
   "id": "30787953",
   "metadata": {},
   "outputs": [
    {
     "name": "stdout",
     "output_type": "stream",
     "text": [
      "150/150 [==============================] - 31s 187ms/step - loss: 1.1687 - accuracy: 0.7376\n"
     ]
    },
    {
     "data": {
      "text/plain": [
       "[1.1686941385269165, 0.7376123666763306]"
      ]
     },
     "execution_count": 40,
     "metadata": {},
     "output_type": "execute_result"
    }
   ],
   "source": [
    "model.evaluate(test,y_test)"
   ]
  },
  {
   "cell_type": "code",
   "execution_count": 19,
   "id": "e33a1b08",
   "metadata": {},
   "outputs": [],
   "source": [
    "import tensorflow as tf\n",
    "from tensorflow import keras\n",
    "import matplotlib.pyplot as plt\n",
    "import numpy as np\n",
    "import cv2\n"
   ]
  },
  {
   "cell_type": "code",
   "execution_count": 20,
   "id": "10c9c65a",
   "metadata": {},
   "outputs": [],
   "source": [
    "from tensorflow.keras import layers, models"
   ]
  },
  {
   "cell_type": "code",
   "execution_count": 21,
   "id": "bcb24e25",
   "metadata": {},
   "outputs": [],
   "source": [
    "inputs=layers.Input(shape=(100, 100, 3))\n",
    "#Conv2D = 2D Convolution Layer\n",
    "#here it take 3,3 matrix ususally \n",
    "#[[1,1,1],\n",
    "# [1,-1,1],\n",
    "# [1,1,1]]     it is basically a loop detection..... in the resultant matrix if it results 1, the desired object is found\n",
    "#ReLU is applied to convert '-'ve values to 0\n",
    "c=(layers.Conv2D(128,(3,3),padding='valid',activation='relu'))(inputs)\n",
    "##MaxPooling2D is a technique to reduce computational complexity\n",
    "#2,2 filter is used  for getting the max\n",
    "#2,2 stride is used  for shifting the fliter\n",
    "m=(layers.MaxPooling2D((2,2),(2,2)))(c)\n",
    "#padding valid means to without adding additional rows and columns in the output feature map\n",
    "#size of the output feature map is less than the size of the input data\n",
    "#reduces the parameters in the model and impoves the computational efficiency\n",
    "c1=(layers.Conv2D(64,(3,3),padding='valid',activation='relu'))(m)\n",
    "m1=(layers.MaxPooling2D((2,2),(2,2)))(c1)\n",
    "c2=(layers.Conv2D(32,(3,3),padding='valid',activation='relu'))(m1)\n",
    "##MaxPooling2D is a technique to reduce computational complexity\n",
    "#2,2 filter is used  for getting the max\n",
    "#2,2 stride is used  for shifting the fliter\n",
    "m2=(layers.MaxPooling2D((2,2),(2,2)))(c2)\n",
    "#padding valid means to without adding additional rows and columns in the output feature map\n",
    "#size of the output feature map is less than the size of the input data\n",
    "#reduces the parameters in the model and impoves the computational efficiency\n",
    "c3=(layers.Conv2D(16,(3,3),padding='valid',activation='relu'))(m2)\n",
    "m3=(layers.MaxPooling2D((2,2),(2,2)))(c3)\n",
    "#flatten is important because Conv2D works on 2D matrix... needed to be converted into 1D array\n",
    "f=layers.Flatten()(m3)\n",
    "#another layer of sigmoid is used\n",
    "d=layers.Dense(16,activation='sigmoid')(f)\n",
    "#softmax activation is used in output layer\n",
    "out=layers.Dense(10,activation='softmax')(d)"
   ]
  },
  {
   "cell_type": "code",
   "execution_count": 22,
   "id": "a878fd55",
   "metadata": {},
   "outputs": [],
   "source": [
    "model1=models.Model(inputs,out)"
   ]
  },
  {
   "cell_type": "code",
   "execution_count": 23,
   "id": "fe2e47da",
   "metadata": {},
   "outputs": [
    {
     "data": {
      "image/png": "[encoded data removed]",
      "text/plain": [
       "<PIL.Image.Image image mode=RGBA size=446x570 at 0x1D8E5F95700>"
      ]
     },
     "execution_count": 23,
     "metadata": {},
     "output_type": "execute_result"
    }
   ],
   "source": [
    "import visualkeras\n",
    "visualkeras.layered_view(model1, legend=True)"
   ]
  },
  {
   "cell_type": "code",
   "execution_count": 24,
   "id": "a55c1095",
   "metadata": {},
   "outputs": [],
   "source": [
    "#compliling\n",
    "model1.compile(optimizer='adam',loss='sparse_categorical_crossentropy', metrics=['accuracy'])"
   ]
  },
  {
   "cell_type": "code",
   "execution_count": 25,
   "id": "4dd0e7bd",
   "metadata": {},
   "outputs": [
    {
     "name": "stdout",
     "output_type": "stream",
     "text": [
      "Epoch 1/10\n",
      "375/375 [==============================] - 230s 606ms/step - loss: 2.1324 - accuracy: 0.2314\n",
      "Epoch 2/10\n",
      "375/375 [==============================] - 220s 588ms/step - loss: 1.4148 - accuracy: 0.6088\n",
      "Epoch 3/10\n",
      "375/375 [==============================] - 231s 617ms/step - loss: 0.9840 - accuracy: 0.7429\n",
      "Epoch 4/10\n",
      "375/375 [==============================] - 225s 600ms/step - loss: 0.7329 - accuracy: 0.8144\n",
      "Epoch 5/10\n",
      "375/375 [==============================] - 216s 576ms/step - loss: 0.5624 - accuracy: 0.8553\n",
      "Epoch 6/10\n",
      "375/375 [==============================] - 215s 573ms/step - loss: 0.4564 - accuracy: 0.8823\n",
      "Epoch 7/10\n",
      "375/375 [==============================] - 219s 585ms/step - loss: 0.3758 - accuracy: 0.9013\n",
      "Epoch 8/10\n",
      "375/375 [==============================] - 248s 661ms/step - loss: 0.3125 - accuracy: 0.9210\n",
      "Epoch 9/10\n",
      "375/375 [==============================] - 351s 935ms/step - loss: 0.2718 - accuracy: 0.9304\n",
      "Epoch 10/10\n",
      "375/375 [==============================] - 358s 955ms/step - loss: 0.2277 - accuracy: 0.9428\n"
     ]
    },
    {
     "data": {
      "text/plain": [
       "<keras.callbacks.History at 0x1d8e60648b0>"
      ]
     },
     "execution_count": 25,
     "metadata": {},
     "output_type": "execute_result"
    }
   ],
   "source": [
    "#training\n",
    "model1.fit(train,y_train,epochs=10)"
   ]
  },
  {
   "cell_type": "code",
   "execution_count": 26,
   "id": "d8dac296",
   "metadata": {},
   "outputs": [
    {
     "name": "stdout",
     "output_type": "stream",
     "text": [
      "Model: \"model\"\n",
      "_________________________________________________________________\n",
      " Layer (type)                Output Shape              Param #   \n",
      "=================================================================\n",
      " input_1 (InputLayer)        [(None, 100, 100, 3)]     0         \n",
      "                                                                 \n",
      " conv2d (Conv2D)             (None, 98, 98, 128)       3584      \n",
      "                                                                 \n",
      " max_pooling2d (MaxPooling2D  (None, 49, 49, 128)      0         \n",
      " )                                                               \n",
      "                                                                 \n",
      " conv2d_1 (Conv2D)           (None, 47, 47, 64)        73792     \n",
      "                                                                 \n",
      " max_pooling2d_1 (MaxPooling  (None, 23, 23, 64)       0         \n",
      " 2D)                                                             \n",
      "                                                                 \n",
      " conv2d_2 (Conv2D)           (None, 21, 21, 32)        18464     \n",
      "                                                                 \n",
      " max_pooling2d_2 (MaxPooling  (None, 10, 10, 32)       0         \n",
      " 2D)                                                             \n",
      "                                                                 \n",
      " conv2d_3 (Conv2D)           (None, 8, 8, 16)          4624      \n",
      "                                                                 \n",
      " max_pooling2d_3 (MaxPooling  (None, 4, 4, 16)         0         \n",
      " 2D)                                                             \n",
      "                                                                 \n",
      " flatten (Flatten)           (None, 256)               0         \n",
      "                                                                 \n",
      " dense (Dense)               (None, 16)                4112      \n",
      "                                                                 \n",
      " dense_1 (Dense)             (None, 10)                170       \n",
      "                                                                 \n",
      "=================================================================\n",
      "Total params: 104,746\n",
      "Trainable params: 104,746\n",
      "Non-trainable params: 0\n",
      "_________________________________________________________________\n"
     ]
    }
   ],
   "source": [
    "model1.summary()"
   ]
  },
  {
   "cell_type": "code",
   "execution_count": 27,
   "id": "38cc17c1",
   "metadata": {},
   "outputs": [
    {
     "name": "stdout",
     "output_type": "stream",
     "text": [
      "375/375 [==============================] - 107s 260ms/step - loss: 0.2394 - accuracy: 0.9352\n"
     ]
    },
    {
     "data": {
      "text/plain": [
       "[0.2393798828125, 0.9351666569709778]"
      ]
     },
     "execution_count": 27,
     "metadata": {},
     "output_type": "execute_result"
    }
   ],
   "source": [
    "model1.evaluate(train,y_train)"
   ]
  },
  {
   "cell_type": "code",
   "execution_count": 28,
   "id": "105769e4",
   "metadata": {},
   "outputs": [],
   "source": [
    "model1.save('project.h5')"
   ]
  },
  {
   "cell_type": "code",
   "execution_count": 29,
   "id": "c0378df9",
   "metadata": {},
   "outputs": [],
   "source": [
    "y_test=[[0] for _ in range(283)]"
   ]
  },
  {
   "cell_type": "code",
   "execution_count": 30,
   "id": "ff47ed83",
   "metadata": {},
   "outputs": [],
   "source": [
    "for i in range(1,10):\n",
    "    y_test+=[[i] for _ in range(300)]\n",
    "    "
   ]
  },
  {
   "cell_type": "code",
   "execution_count": 31,
   "id": "18b4aabe",
   "metadata": {},
   "outputs": [
    {
     "data": {
      "text/plain": [
       "(2983, 100, 100, 3)"
      ]
     },
     "execution_count": 31,
     "metadata": {},
     "output_type": "execute_result"
    }
   ],
   "source": [
    "test.shape"
   ]
  },
  {
   "cell_type": "code",
   "execution_count": 33,
   "id": "dba42703",
   "metadata": {},
   "outputs": [],
   "source": [
    "y_test=np.array(y_test).astype(np.int_)"
   ]
  },
  {
   "cell_type": "code",
   "execution_count": 34,
   "id": "6be603ec",
   "metadata": {},
   "outputs": [
    {
     "data": {
      "text/plain": [
       "(2983, 1)"
      ]
     },
     "execution_count": 34,
     "metadata": {},
     "output_type": "execute_result"
    }
   ],
   "source": [
    "y_test.shape"
   ]
  },
  {
   "cell_type": "code",
   "execution_count": 35,
   "id": "ec778337",
   "metadata": {},
   "outputs": [
    {
     "name": "stdout",
     "output_type": "stream",
     "text": [
      "94/94 [==============================] - 24s 250ms/step - loss: 0.6211 - accuracy: 0.7814\n"
     ]
    },
    {
     "data": {
      "text/plain": [
       "[0.6211187243461609, 0.7814280986785889]"
      ]
     },
     "execution_count": 35,
     "metadata": {},
     "output_type": "execute_result"
    }
   ],
   "source": [
    "model1.evaluate(test,y_test)"
   ]
  },
  {
   "cell_type": "code",
   "execution_count": 36,
   "id": "f3e3500a",
   "metadata": {},
   "outputs": [
    {
     "name": "stdout",
     "output_type": "stream",
     "text": [
      "94/94 [==============================] - 24s 258ms/step\n"
     ]
    }
   ],
   "source": [
    "predict=model1.predict(test)"
   ]
  },
  {
   "cell_type": "code",
   "execution_count": 64,
   "id": "4bfeea93",
   "metadata": {},
   "outputs": [
    {
     "data": {
      "text/plain": [
       "9"
      ]
     },
     "execution_count": 64,
     "metadata": {},
     "output_type": "execute_result"
    }
   ],
   "source": [
    "np.argmax(predict[2930])"
   ]
  },
  {
   "cell_type": "code",
   "execution_count": 63,
   "id": "55d85a71",
   "metadata": {},
   "outputs": [
    {
     "data": {
      "text/plain": [
       "<matplotlib.image.AxesImage at 0x1d8e697f550>"
      ]
     },
     "execution_count": 63,
     "metadata": {},
     "output_type": "execute_result"
    },
    {
     "data": {
      "image/png": "[encoded data removed]",
      "text/plain": [
       "<Figure size 288x288 with 1 Axes>"
      ]
     },
     "metadata": {
      "needs_background": "light"
     },
     "output_type": "display_data"
    }
   ],
   "source": [
    "plt.matshow(test[2930])"
   ]
  },
  {
   "cell_type": "code",
   "execution_count": 65,
   "id": "98da4484",
   "metadata": {},
   "outputs": [
    {
     "data": {
      "text/plain": [
       "array([9])"
      ]
     },
     "execution_count": 65,
     "metadata": {},
     "output_type": "execute_result"
    }
   ],
   "source": [
    "y_test[2930]"
   ]
  },
  {
   "cell_type": "code",
   "execution_count": null,
   "id": "786e7589",
   "metadata": {},
   "outputs": [],
   "source": []
  },
  {
   "cell_type": "code",
   "execution_count": 96,
   "id": "fb08778f",
   "metadata": {},
   "outputs": [
    {
     "name": "stdout",
     "output_type": "stream",
     "text": [
      "^C\n"
     ]
    }
   ],
   "source": [
    "#!pip install cvzone\n",
    "#!pip uninstall mediapipe\n",
    "#!pip install opencv-contrib-python\n",
    "#!pip install msvc-runtime"
   ]
  },
  {
   "cell_type": "code",
   "execution_count": 1,
   "id": "8c126d4e",
   "metadata": {},
   "outputs": [],
   "source": [
    "import mediapipe"
   ]
  },
  {
   "cell_type": "code",
   "execution_count": 1,
   "id": "fba55e1a",
   "metadata": {},
   "outputs": [],
   "source": [
    "import cv2\n",
    "import math"
   ]
  },
  {
   "cell_type": "code",
   "execution_count": 2,
   "id": "73910996",
   "metadata": {},
   "outputs": [],
   "source": [
    "from cvzone.HandTrackingModule import HandDetector"
   ]
  },
  {
   "cell_type": "code",
   "execution_count": 3,
   "id": "4f9208d7",
   "metadata": {},
   "outputs": [],
   "source": [
    "from tensorflow.keras.models import load_model"
   ]
  },
  {
   "cell_type": "code",
   "execution_count": 4,
   "id": "545a9145",
   "metadata": {},
   "outputs": [],
   "source": [
    "model=load_model(r'C:\\Users\\Lenovo\\Downloads\\calculator3.h5')"
   ]
  },
  {
   "cell_type": "code",
   "execution_count": 5,
   "id": "3da61ca2",
   "metadata": {},
   "outputs": [],
   "source": [
    "import time"
   ]
  },
  {
   "cell_type": "code",
   "execution_count": 6,
   "id": "2d80078b",
   "metadata": {},
   "outputs": [],
   "source": [
    "def prediction(img):\n",
    "    m=resize_img(img,len(img),len(img[0]))\n",
    "    m=m/255\n",
    "    m=np.array([m])\n",
    "    s=model.predict(m,verbose=0)\n",
    "    return np.argmax(s)\n",
    "    \n",
    "    "
   ]
  },
  {
   "cell_type": "code",
   "execution_count": 41,
   "id": "a2970b7c",
   "metadata": {},
   "outputs": [
    {
     "name": "stdout",
     "output_type": "stream",
     "text": [
      "4\n",
      "49\n",
      "490\n",
      "4905\n",
      "49054\n",
      "490544\n",
      "4905440\n",
      "4905440/\n",
      "4905440/4\n",
      "4905440/40\n",
      "4905440/400\n",
      "4905440/4000\n",
      "4905440/40000\n",
      "4905440/400000\n",
      "4905440/4000000\n",
      "4905440/40000000\n",
      "4905440/400000000\n",
      "4905440/4000000000\n",
      "4905440/40000000000\n",
      "4905440/400000000000\n",
      "4905440/4000000000000\n",
      "4905440/40000000000003\n",
      "4905440/400000000000035\n",
      "4905440/4000000000000354\n",
      "4905440/40000000000003542\n",
      "4905440/400000000000035423\n",
      "4905440/4000000000000354233\n",
      "4905440/40000000000003542333\n",
      "4905440/400000000000035423339\n",
      "4905440/400000000000035423339+\n",
      "4905440/400000000000035423339\n",
      "4905440/40000000000003542333\n",
      "4905440/4000000000000354233\n",
      "Enter 's' if you want to calculate or press any key to continue: \n",
      "4905440/4000000000000354233\n",
      "4905440/40000000000003542333\n",
      "4905440/4000000000000354233\n",
      "4905440/400000000000035423\n",
      "4905440/40000000000003542\n",
      "4905440/4000000000000354\n",
      "4905440/400000000000035\n",
      "4905440/4000000000000350\n",
      "4905440/400000000000035\n",
      "4905440/40000000000003\n",
      "4905440/4000000000000\n",
      "4905440/400000000000\n",
      "4905440/40000000000\n",
      "Enter 's' if you want to calculate or press any key to continue: s\n",
      "0.000122636\n"
     ]
    }
   ],
   "source": [
    "cap=cv2.VideoCapture(0)\n",
    "detector=HandDetector(maxHands=1)\n",
    "\n",
    "offset=20\n",
    "imgsize=80\n",
    "prev=time.time()\n",
    "k=[]\n",
    "string=''\n",
    "while True:\n",
    "    success,img=cap.read()\n",
    "    hands,img=detector.findHands(img)\n",
    "    if hands:\n",
    "        hand=hands[0]\n",
    "        x,y,w,h=hand['bbox']\n",
    "        \n",
    "        imgCrop=img[y-offset:y+h+offset,x-offset:x+w+offset]\n",
    "        \n",
    "        '''\n",
    "        aspectRation=h/w\n",
    "        if aspectRation>1:\n",
    "            k=imgsize/h\n",
    "            #print(k)\n",
    "            wcal=math.ceil(k*w)\n",
    "            #print(wcal)\n",
    "            imgresize=cv2.resize(imgCrop,(wcal,imgsize))\n",
    "            #plt.matshow(imgresize)\n",
    "            imgw=imgresize.shape[1]\n",
    "            imgh=imgresize.shape[0]\n",
    "            wgap=math.ceil((imgsize-wcal)/2)\n",
    "            imgwhite[:,wgap:wcal+wgap]=imgresize\n",
    "\n",
    "        else:\n",
    "            k=imgsize/w\n",
    "            hcal=math.ceil(k*h)\n",
    "            imgresize=cv2.resize(imgCrop,(imgsize,hcal))\n",
    "            imgw=imgresize.shape[1]\n",
    "            imgh=imgresize.shape[0]\n",
    "            hgap=math.ceil((imgsize-hcal)/2)\n",
    "            imgwhite[hgap:hcal+hgap,:]=imgresize\n",
    "        \n",
    "        '''\n",
    "        cur=time.time()\n",
    "        if cur-prev>3:\n",
    "            prev=cur\n",
    "            result=prediction(imgCrop)\n",
    "            if len(string)!=0 and result==0:\n",
    "                if string[len(string)-1] in ['+','-','*','/']:\n",
    "                    pass\n",
    "                else:\n",
    "                    string+=str(result)\n",
    "            elif string=='' and (result==0 or result==10 or result==11 or result==12 or result==13):\n",
    "                string=''\n",
    "            elif result==10:\n",
    "                string+='+'\n",
    "            elif result==11:\n",
    "                string+='-'\n",
    "            elif result==12:\n",
    "                string+='*'\n",
    "            elif result==13:\n",
    "                string+='/'\n",
    "            elif string=='' and result==14:\n",
    "                string=''\n",
    "            elif string!='' and result==14:  #DELETE\n",
    "                string=string[:len(string)-1]\n",
    "            elif string=='' and result==15:\n",
    "                string=''\n",
    "                print(\"No output\")\n",
    "                break\n",
    "            elif string!='' and result==15:  #DELETE\n",
    "                valid=input(\"Enter 's' if you want to calculate or press any key to continue: \")\n",
    "                if valid=='s':\n",
    "                    print(eval(string))\n",
    "                    break\n",
    "                else:\n",
    "                    pass\n",
    "            else:\n",
    "                string+=str(result)\n",
    "            print(string)\n",
    "        cv2.imshow(\"Imgae Crop\",imgCrop)\n",
    "    cv2.imshow(\"Imgae\",img)\n",
    "    cv2.waitKey(1)"
   ]
  },
  {
   "cell_type": "code",
   "execution_count": 42,
   "id": "0908a071",
   "metadata": {},
   "outputs": [
    {
     "data": {
      "text/plain": [
       "<function VideoCapture.release>"
      ]
     },
     "execution_count": 42,
     "metadata": {},
     "output_type": "execute_result"
    }
   ],
   "source": [
    "cap.release"
   ]
  },
  {
   "cell_type": "code",
   "execution_count": 43,
   "id": "7f8b0167",
   "metadata": {},
   "outputs": [],
   "source": [
    "cv2.destroyAllWindows()"
   ]
  },
  {
   "cell_type": "code",
   "execution_count": null,
   "id": "dff728b6",
   "metadata": {},
   "outputs": [],
   "source": []
  }
 ],
 "metadata": {
  "kernelspec": {
   "display_name": "Python 3",
   "language": "python",
   "name": "python3"
  },
  "language_info": {
   "codemirror_mode": {
    "name": "ipython",
    "version": 3
   },
   "file_extension": ".py",
   "mimetype": "text/x-python",
   "name": "python",
   "nbconvert_exporter": "python",
   "pygments_lexer": "ipython3",
   "version": "3.8.8"
  }
 },
 "nbformat": 4,
 "nbformat_minor": 5
}
