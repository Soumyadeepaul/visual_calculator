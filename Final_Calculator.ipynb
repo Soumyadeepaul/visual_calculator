{
 "cells": [
  {
   "cell_type": "code",
   "execution_count": 1,
   "id": "f9c182b4",
   "metadata": {},
   "outputs": [],
   "source": [
    "#IMPORT lib(s)\n",
    "import matplotlib.pyplot as plt\n",
    "import random\n",
    "import os\n",
    "import matplotlib.image as mpimg\n",
    "import cv2\n",
    "import numpy as np\n",
    "import math\n",
    "from tensorflow.keras.models import load_model\n",
    "from cvzone.HandTrackingModule import HandDetector\n",
    "import time"
   ]
  },
  {
   "cell_type": "code",
   "execution_count": 2,
   "id": "3d4d16be",
   "metadata": {},
   "outputs": [],
   "source": [
    "model=load_model(r'C:\\Users\\Lenovo\\nn_calculator_project\\calculator7.h5')"
   ]
  },
  {
   "cell_type": "code",
   "execution_count": 3,
   "id": "cf6ad960",
   "metadata": {},
   "outputs": [],
   "source": [
    "#IMPORTANT\n",
    "#function take img array, height , width\n",
    "#to convert image of aspect ratio of 1:1.... height=80 and weight=80\n",
    "def resize_img(img,imgh,imgw):\n",
    "    imgsize=80\n",
    "    #WHITE BACKGROUND\n",
    "    imgwhite=np.ones((imgsize,imgsize,3),np.uint8)*255\n",
    "\n",
    "    #if hight>width\n",
    "    #adjusting the width\n",
    "    if imgh>imgw:\n",
    "        k=imgsize/imgh\n",
    "        wcal=math.floor(k*imgw)\n",
    "        #reshaping the hight to imgsize and width to calculated width\n",
    "        imgresize=cv2.resize(img,(wcal,imgsize))\n",
    "        #wgap is to bring the image in middle\n",
    "        wgap=math.floor((imgsize-wcal)/2)\n",
    "        #putting image over white background\n",
    "        imgwhite[:,wgap:wcal+wgap]=imgresize\n",
    "\n",
    "\n",
    "    #if hight<width\n",
    "    #adjysting the hight\n",
    "    else:\n",
    "        k=imgsize/imgw\n",
    "        hcal=math.floor(k*imgh)\n",
    "        imgresize=cv2.resize(img,(imgsize,hcal))\n",
    "        hgap=math.floor((imgsize-hcal)/2)\n",
    "        imgwhite[hgap:hcal+hgap,:]=imgresize\n",
    "    return imgwhite"
   ]
  },
  {
   "cell_type": "code",
   "execution_count": 4,
   "id": "2b585995",
   "metadata": {},
   "outputs": [],
   "source": [
    "def prediction(img):\n",
    "    #resize the image (80,80,3)\n",
    "    m=resize_img(img,len(img),len(img[0]))\n",
    "    #normalization\n",
    "    m=m/255\n",
    "    #convert into (1,80,80,3)\n",
    "    m=np.array([m])\n",
    "    #predict the value in the form of array\n",
    "    s=model.predict(m,verbose=0)\n",
    "    #return the index of the maximum from numpy\n",
    "    return np.argmax(s)"
   ]
  },
  {
   "cell_type": "code",
   "execution_count": 7,
   "id": "d265b268",
   "metadata": {},
   "outputs": [
    {
     "name": "stdout",
     "output_type": "stream",
     "text": [
      "2\n",
      "23\n",
      "23+\n",
      "23+5\n",
      "Enter 's' if you want to calculate or press any key to continue: s\n",
      "28\n"
     ]
    }
   ],
   "source": [
    "cap=cv2.VideoCapture(0)\n",
    "detector=HandDetector(maxHands=1)\n",
    "\n",
    "offset=20\n",
    "imgsize=80\n",
    "prev=time.time()\n",
    "string=''\n",
    "while True:\n",
    "    success,img=cap.read()\n",
    "    hands,img=detector.findHands(img)\n",
    "    if hands:\n",
    "        hand=hands[0]\n",
    "        x,y,w,h=hand['bbox']\n",
    "        \n",
    "        imgCrop=img[y-offset:y+h+offset,x-offset:x+w+offset]\n",
    "        \n",
    "        cur=time.time()\n",
    "        if cur-prev>3:\n",
    "            prev=cur\n",
    "            result=prediction(imgCrop)\n",
    "            if len(string)!=0 and result==0:\n",
    "                if string[len(string)-1] in ['+','-','*','/']:\n",
    "                    pass\n",
    "                else:\n",
    "                    string+=str(result)\n",
    "            elif string=='' and (result==0 or result==10 or result==11 or result==12 or result==13):\n",
    "                string=''\n",
    "            elif result==10:\n",
    "                string+='+'\n",
    "            elif result==11:\n",
    "                string+='-'\n",
    "            elif result==12:\n",
    "                string+='*'\n",
    "            elif result==13:\n",
    "                string+='/'\n",
    "            elif string=='' and result==15:\n",
    "                string=''\n",
    "            elif string!='' and result==15:  #DELETE\n",
    "                string=string[:len(string)-1]\n",
    "            elif string=='' and result==14:\n",
    "                print(\"No output\")\n",
    "                break\n",
    "            elif string!='' and result==14:\n",
    "                valid=input(\"Enter 's' if you want to calculate or press any key to continue: \")\n",
    "                if valid=='s':\n",
    "                    print(eval(string))\n",
    "                    break\n",
    "                else:\n",
    "                    pass\n",
    "            else:\n",
    "                string+=str(result)\n",
    "            print(string)\n",
    "        \n",
    "        cv2.imshow(\"Imgae Crop\",imgCrop)\n",
    "    cv2.imshow(\"MAIN\",img)\n",
    "    cv2.waitKey(1)"
   ]
  }
 ],
 "metadata": {
  "kernelspec": {
   "display_name": "Python 3",
   "language": "python",
   "name": "python3"
  },
  "language_info": {
   "codemirror_mode": {
    "name": "ipython",
    "version": 3
   },
   "file_extension": ".py",
   "mimetype": "text/x-python",
   "name": "python",
   "nbconvert_exporter": "python",
   "pygments_lexer": "ipython3",
   "version": "3.8.8"
  }
 },
 "nbformat": 4,
 "nbformat_minor": 5
}
